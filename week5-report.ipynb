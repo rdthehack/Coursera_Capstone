{
 "cells": [
  {
   "cell_type": "markdown",
   "metadata": {},
   "source": [
    "## Introduction to the project\n",
    "\n",
    "This project aims to open a cafe in the best possible location away from other locations in the busy city of Mumbai(aka Bombay). Cafes are a good location for people to sit and work and socialize. They are synonymous with business persons and casual visitors alike. You can hold an interview or catch up with old friends.\n",
    "Thus, foursquare and folium were used to collect the data required and present it in the form of a heatmap.\n",
    "The data is taken from FourSquare API using the requests module to automate the url formation which is difficult to code by hand. We have observed the cafes already present and have decided to find a center which is away from all clusters found. The heatmap allows us to see the density of cafes in locations and we can use this to decide the best location for our cafe."
   ]
  },
  {
   "cell_type": "markdown",
   "metadata": {},
   "source": [
    "## Business Problem\n",
    "\n",
    "To find a suitable location for a new cafe in a bustling city where there is minimal competition and high chance of success in an area which is not already full of cafes. Do this using neighborhood clustering."
   ]
  },
  {
   "cell_type": "markdown",
   "metadata": {},
   "source": [
    "## Target Audience:\n",
    "This project will be useful for healthcare workers and the general people alike as it aims to bring more healthcare services to a larger number of people. It will help people stay safe and secure from a global pandemic and rest assured that they have the necessary services close by if an emergency occurs and there is a need."
   ]
  },
  {
   "cell_type": "markdown",
   "metadata": {},
   "source": [
    "## Data\n",
    "\n",
    "We will need the following data to solve this problem:\n",
    "\n",
    "• List of neighbourhoods in Mumbai to define the scope and granularity of this project.\n",
    "\n",
    "• Latitude and Longitudinal values of all this neighbourhoods to plot the maps and get further data.\n",
    "\n",
    "• Venue data from FourSquare related to cafes to perform clustering and decipher the best area for cafe location.\n",
    "    \n",
    "We will use Foursquare API to get the venue data for those neighbourhoods. Foursquare has one of the largest database of 105+ million places and is used by over 125,000 developers. Foursquare API will provide many categories of the venue data, we are particularly interested in the hospital category in order to help us to solve the business problem put forward. This is a project that will make use of many data science skills, from web scraping (Wikipedia), working with API (Foursquare), data cleaning, data wrangling, to machine learning (K-means clustering) and map visualization (Folium). In the next section, we will present the Methodology section where we will discuss the steps taken in this project, the data analysis that we did and the machine learning technique that was used."
   ]
  },
  {
   "cell_type": "markdown",
   "metadata": {},
   "source": [
    "## Methodology\n",
    "\n",
    "The code can be seen in the file 'week5-code'. The methodology approach has been modified due to some issues with the geocoder module. Thus, all the work was possible just with foursquare and folium. Once the data for venues was taken from foursquare api with standard api calls, the data which was parsed to json format and metadata was left behind.\n",
    "\n",
    "Next, the granularity of the search and the full scope of the search was fixed. Once this was done, the bounds provided were used. The geocode from FourSquare was used rather than taking geocoder data from the python geocoder module.\n",
    "\n",
    "The items were then seperated into an array in the json variable and the number of items were taken such that limit is reached. Next a loop was run over the item array to collect some relevant information and then the collected data was put into a dataframe for easier storage and processing.\n",
    "\n",
    "25 cafes were seen. We then used a simple density based estimator in the form of a HeatMap from folium to give us a good idea about where to start the new cafe. \n",
    "\n",
    "Then, we used the add child method and found the center of regions where density was lowest to add our new cafe."
   ]
  },
  {
   "cell_type": "markdown",
   "metadata": {},
   "source": [
    "## Results\n",
    "\n",
    "The best location was seen on the main Santa Cruz Chembur Link Road or SCLR as it is locally known. The location was just on the main road and this is the location which is in lowest density and thus improves success chances."
   ]
  },
  {
   "cell_type": "markdown",
   "metadata": {},
   "source": [
    "## Discussion\n",
    "\n",
    "A larger radius could be taken to account for other trends.\n",
    "\n",
    "A larger limit could be applied to look for other cafes which may go unnoticed and hamper the business.\n",
    "\n",
    "Another clustering algorithm could be used to give us cluster centroid with which another approach could be fabricated."
   ]
  },
  {
   "cell_type": "markdown",
   "metadata": {},
   "source": [
    "## Conclusion\n",
    "\n",
    "Thus, foursquare, folium and neighborhood analysis was used to find the best location for the cafe and it was found to be on the main road on the Santa Cruz Chembur Link Road, Mumbai."
   ]
  }
 ],
 "metadata": {
  "kernelspec": {
   "display_name": "Python 3",
   "language": "python",
   "name": "python3"
  },
  "language_info": {
   "codemirror_mode": {
    "name": "ipython",
    "version": 3
   },
   "file_extension": ".py",
   "mimetype": "text/x-python",
   "name": "python",
   "nbconvert_exporter": "python",
   "pygments_lexer": "ipython3",
   "version": "3.7.4"
  }
 },
 "nbformat": 4,
 "nbformat_minor": 4
}
