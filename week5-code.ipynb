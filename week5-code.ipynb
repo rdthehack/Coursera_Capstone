{
 "cells": [
  {
   "cell_type": "code",
   "execution_count": 1,
   "metadata": {},
   "outputs": [],
   "source": [
    "import pandas as pd\n",
    "import folium\n",
    "import requests\n",
    "from folium import plugins"
   ]
  },
  {
   "cell_type": "code",
   "execution_count": 2,
   "metadata": {},
   "outputs": [],
   "source": [
    "# The code was removed by Watson Studio for sharing.\n",
    "CLIENT_ID = 'test' # your Foursquare ID\n",
    "CLIENT_SECRET = 'test' # your Foursquare Secret\n",
    "VERSION = 'test' # Foursquare API version"
   ]
  },
  {
   "cell_type": "markdown",
   "metadata": {},
   "source": [
    "First a GET request for FourSquare API is constructed. Here, we find coffee near Helsinki center, in 3000 m radius. In general it's better to let requests to handle adding parameters to url than manually construct it."
   ]
  },
  {
   "cell_type": "code",
   "execution_count": 72,
   "metadata": {},
   "outputs": [],
   "source": [
    "request_parameters = {\n",
    "    \"client_id\": CLIENT_ID,\n",
    "    \"client_secret\": CLIENT_SECRET,\n",
    "    \"v\": '20200703',\n",
    "    \"section\": \"coffee\",\n",
    "    \"near\": \"Mumbai\",\n",
    "    \"radius\": 3000,\n",
    "    \"limit\": 50}\n",
    "\n",
    "data = requests.get(\"https://api.foursquare.com/v2/venues/explore\", params=request_parameters)"
   ]
  },
  {
   "cell_type": "markdown",
   "metadata": {},
   "source": [
    "Parsing response to JSON. We get to following keys in our dictionary:"
   ]
  },
  {
   "cell_type": "code",
   "execution_count": 73,
   "metadata": {},
   "outputs": [
    {
     "data": {
      "text/plain": [
       "dict_keys(['suggestedFilters', 'geocode', 'headerLocation', 'headerFullLocation', 'headerLocationGranularity', 'query', 'totalResults', 'suggestedBounds', 'groups'])"
      ]
     },
     "execution_count": 73,
     "metadata": {},
     "output_type": "execute_result"
    }
   ],
   "source": [
    "d = data.json()[\"response\"]\n",
    "d.keys()"
   ]
  },
  {
   "cell_type": "markdown",
   "metadata": {},
   "source": [
    "Most of the items on dictionary are giving some general information like the name of the city, it's geo code and so on. `groups` contains the actual search result."
   ]
  },
  {
   "cell_type": "code",
   "execution_count": 74,
   "metadata": {},
   "outputs": [
    {
     "data": {
      "text/plain": [
       "('city', 'Mumbai', 'Mumbai')"
      ]
     },
     "execution_count": 74,
     "metadata": {},
     "output_type": "execute_result"
    }
   ],
   "source": [
    "d[\"headerLocationGranularity\"], d[\"headerLocation\"], d[\"headerFullLocation\"]"
   ]
  },
  {
   "cell_type": "code",
   "execution_count": 75,
   "metadata": {
    "scrolled": true
   },
   "outputs": [
    {
     "data": {
      "text/plain": [
       "({'ne': {'lat': 19.09860962158074, 'lng': 72.90742839551942},\n",
       "  'sw': {'lat': 19.0493164536871, 'lng': 72.85939296430874}},\n",
       " 59)"
      ]
     },
     "execution_count": 75,
     "metadata": {},
     "output_type": "execute_result"
    }
   ],
   "source": [
    "d[\"suggestedBounds\"], d[\"totalResults\"]"
   ]
  },
  {
   "cell_type": "code",
   "execution_count": 76,
   "metadata": {
    "scrolled": true
   },
   "outputs": [
    {
     "data": {
      "text/plain": [
       "{'what': '',\n",
       " 'where': 'mumbai',\n",
       " 'center': {'lat': 19.07283, 'lng': 72.88261},\n",
       " 'displayString': 'Mumbai, Mahārāshtra, India',\n",
       " 'cc': 'IN',\n",
       " 'geometry': {'bounds': {'ne': {'lat': 19.270308999589393,\n",
       "    'lng': 72.97958690519049},\n",
       "   'sw': {'lat': 18.89376311943323, 'lng': 72.7753930782989}}},\n",
       " 'slug': 'mumbai',\n",
       " 'longId': '72057594039203275'}"
      ]
     },
     "execution_count": 76,
     "metadata": {},
     "output_type": "execute_result"
    }
   ],
   "source": [
    "d[\"geocode\"]"
   ]
  },
  {
   "cell_type": "markdown",
   "metadata": {},
   "source": [
    "In groups we again have several different items, where type and name are irrelevant for given task. The full path to items is `data.json()[\"response\"][\"groups\"][0][\"items\"]`.\n",
    "\n",
    "Let's print couple of first items to get again better idea of the structure of the data:"
   ]
  },
  {
   "cell_type": "code",
   "execution_count": 77,
   "metadata": {},
   "outputs": [
    {
     "data": {
      "text/plain": [
       "dict_keys(['type', 'name', 'items'])"
      ]
     },
     "execution_count": 77,
     "metadata": {},
     "output_type": "execute_result"
    }
   ],
   "source": [
    "d[\"groups\"][0].keys()"
   ]
  },
  {
   "cell_type": "code",
   "execution_count": 78,
   "metadata": {},
   "outputs": [
    {
     "data": {
      "text/plain": [
       "('Recommended Places', 'recommended')"
      ]
     },
     "execution_count": 78,
     "metadata": {},
     "output_type": "execute_result"
    }
   ],
   "source": [
    "d[\"groups\"][0][\"type\"], d[\"groups\"][0][\"name\"]"
   ]
  },
  {
   "cell_type": "code",
   "execution_count": 79,
   "metadata": {
    "scrolled": true
   },
   "outputs": [
    {
     "name": "stdout",
     "output_type": "stream",
     "text": [
      "number of items: 50\n"
     ]
    },
    {
     "data": {
      "text/plain": [
       "{'reasons': {'count': 0,\n",
       "  'items': [{'summary': 'This spot is popular',\n",
       "    'type': 'general',\n",
       "    'reasonName': 'globalInteractionReason'}]},\n",
       " 'venue': {'id': '4d9b39ed2ae860fc0f5a81cb',\n",
       "  'name': 'Sofitel Mumbai BKC',\n",
       "  'location': {'address': 'C 57 Bandra Kurla Complex, Bandra East, Maharashtra',\n",
       "   'crossStreet': 'Bandra East',\n",
       "   'lat': 19.0674478,\n",
       "   'lng': 72.8690057,\n",
       "   'labeledLatLngs': [{'label': 'display',\n",
       "     'lat': 19.0674478,\n",
       "     'lng': 72.8690057}],\n",
       "   'postalCode': '400051',\n",
       "   'cc': 'IN',\n",
       "   'city': 'Mumbai',\n",
       "   'state': 'Mahārāshtra',\n",
       "   'country': 'India',\n",
       "   'formattedAddress': ['C 57 Bandra Kurla Complex, Bandra East, Maharashtra (Bandra East)',\n",
       "    'Mumbai 400051',\n",
       "    'Mahārāshtra',\n",
       "    'India']},\n",
       "  'categories': [{'id': '4bf58dd8d48988d1fa931735',\n",
       "    'name': 'Hotel',\n",
       "    'pluralName': 'Hotels',\n",
       "    'shortName': 'Hotel',\n",
       "    'icon': {'prefix': 'https://ss3.4sqi.net/img/categories_v2/travel/hotel_',\n",
       "     'suffix': '.png'},\n",
       "    'primary': True}],\n",
       "  'photos': {'count': 0, 'groups': []}},\n",
       " 'referralId': 'e-5-4d9b39ed2ae860fc0f5a81cb-0'}"
      ]
     },
     "execution_count": 79,
     "metadata": {},
     "output_type": "execute_result"
    }
   ],
   "source": [
    "items = d[\"groups\"][0][\"items\"]\n",
    "print(\"number of items: %i\" % len(items))\n",
    "items[0]"
   ]
  },
  {
   "cell_type": "code",
   "execution_count": 80,
   "metadata": {
    "scrolled": true
   },
   "outputs": [
    {
     "data": {
      "text/plain": [
       "{'reasons': {'count': 0,\n",
       "  'items': [{'summary': 'This spot is popular',\n",
       "    'type': 'general',\n",
       "    'reasonName': 'globalInteractionReason'}]},\n",
       " 'venue': {'id': '546f25c5498e2d4d056ad6eb',\n",
       "  'name': 'Starbucks Coffee Capital',\n",
       "  'location': {'address': 'The Capital',\n",
       "   'lat': 19.063456936971313,\n",
       "   'lng': 72.86157639300012,\n",
       "   'labeledLatLngs': [{'label': 'display',\n",
       "     'lat': 19.063456936971313,\n",
       "     'lng': 72.86157639300012}],\n",
       "   'cc': 'IN',\n",
       "   'country': 'India',\n",
       "   'formattedAddress': ['The Capital', 'India']},\n",
       "  'categories': [{'id': '4bf58dd8d48988d1e0931735',\n",
       "    'name': 'Coffee Shop',\n",
       "    'pluralName': 'Coffee Shops',\n",
       "    'shortName': 'Coffee Shop',\n",
       "    'icon': {'prefix': 'https://ss3.4sqi.net/img/categories_v2/food/coffeeshop_',\n",
       "     'suffix': '.png'},\n",
       "    'primary': True}],\n",
       "  'photos': {'count': 0, 'groups': []}},\n",
       " 'referralId': 'e-5-546f25c5498e2d4d056ad6eb-3'}"
      ]
     },
     "execution_count": 80,
     "metadata": {},
     "output_type": "execute_result"
    }
   ],
   "source": [
    "items[3]"
   ]
  },
  {
   "cell_type": "markdown",
   "metadata": {},
   "source": [
    "Based on this, a simple for loop over the items is collecting some relevant data from the array, and after that DataFrame is created based on this parsed data."
   ]
  },
  {
   "cell_type": "code",
   "execution_count": 81,
   "metadata": {
    "scrolled": true
   },
   "outputs": [
    {
     "name": "stdout",
     "output_type": "stream",
     "text": [
      "found 25 cafes\n"
     ]
    },
    {
     "data": {
      "text/html": [
       "<div>\n",
       "<style scoped>\n",
       "    .dataframe tbody tr th:only-of-type {\n",
       "        vertical-align: middle;\n",
       "    }\n",
       "\n",
       "    .dataframe tbody tr th {\n",
       "        vertical-align: top;\n",
       "    }\n",
       "\n",
       "    .dataframe thead th {\n",
       "        text-align: right;\n",
       "    }\n",
       "</style>\n",
       "<table border=\"1\" class=\"dataframe\">\n",
       "  <thead>\n",
       "    <tr style=\"text-align: right;\">\n",
       "      <th></th>\n",
       "      <th>uid</th>\n",
       "      <th>name</th>\n",
       "      <th>shortname</th>\n",
       "      <th>address</th>\n",
       "      <th>postalcode</th>\n",
       "      <th>lat</th>\n",
       "      <th>lng</th>\n",
       "    </tr>\n",
       "  </thead>\n",
       "  <tbody>\n",
       "    <tr>\n",
       "      <th>0</th>\n",
       "      <td>4d9b39ed2ae860fc0f5a81cb</td>\n",
       "      <td>Sofitel Mumbai BKC</td>\n",
       "      <td>Hotel</td>\n",
       "      <td>Oberoi Mall</td>\n",
       "      <td>400051</td>\n",
       "      <td>19.067448</td>\n",
       "      <td>72.869006</td>\n",
       "    </tr>\n",
       "    <tr>\n",
       "      <th>1</th>\n",
       "      <td>5286f821498e858fbcaef672</td>\n",
       "      <td>Starbucks Coffee: A Tata Alliance</td>\n",
       "      <td>Coffee Shop</td>\n",
       "      <td>Oberoi Mall</td>\n",
       "      <td>400051</td>\n",
       "      <td>19.069457</td>\n",
       "      <td>72.869375</td>\n",
       "    </tr>\n",
       "    <tr>\n",
       "      <th>2</th>\n",
       "      <td>548fd811498ed58c1ff94909</td>\n",
       "      <td>212 All Day</td>\n",
       "      <td>Café</td>\n",
       "      <td>Oberoi Mall</td>\n",
       "      <td>400070</td>\n",
       "      <td>19.086338</td>\n",
       "      <td>72.889073</td>\n",
       "    </tr>\n",
       "    <tr>\n",
       "      <th>3</th>\n",
       "      <td>4b0587cef964a5208aa222e3</td>\n",
       "      <td>Le Café</td>\n",
       "      <td>Café</td>\n",
       "      <td>Oberoi Mall</td>\n",
       "      <td>400 071</td>\n",
       "      <td>19.061791</td>\n",
       "      <td>72.899479</td>\n",
       "    </tr>\n",
       "    <tr>\n",
       "      <th>4</th>\n",
       "      <td>506c245be889751dc706f806</td>\n",
       "      <td>Mad Over Donuts</td>\n",
       "      <td>Donuts</td>\n",
       "      <td>Oberoi Mall</td>\n",
       "      <td>400086</td>\n",
       "      <td>19.087812</td>\n",
       "      <td>72.904909</td>\n",
       "    </tr>\n",
       "  </tbody>\n",
       "</table>\n",
       "</div>"
      ],
      "text/plain": [
       "                        uid                               name    shortname  \\\n",
       "0  4d9b39ed2ae860fc0f5a81cb                 Sofitel Mumbai BKC        Hotel   \n",
       "1  5286f821498e858fbcaef672  Starbucks Coffee: A Tata Alliance  Coffee Shop   \n",
       "2  548fd811498ed58c1ff94909                        212 All Day         Café   \n",
       "3  4b0587cef964a5208aa222e3                            Le Café         Café   \n",
       "4  506c245be889751dc706f806                    Mad Over Donuts       Donuts   \n",
       "\n",
       "       address postalcode        lat        lng  \n",
       "0  Oberoi Mall     400051  19.067448  72.869006  \n",
       "1  Oberoi Mall     400051  19.069457  72.869375  \n",
       "2  Oberoi Mall     400070  19.086338  72.889073  \n",
       "3  Oberoi Mall    400 071  19.061791  72.899479  \n",
       "4  Oberoi Mall     400086  19.087812  72.904909  "
      ]
     },
     "execution_count": 81,
     "metadata": {},
     "output_type": "execute_result"
    }
   ],
   "source": [
    "df_raw = []\n",
    "for item in items:\n",
    "    venue = item[\"venue\"]\n",
    "    categories, uid, name, location = venue[\"categories\"], venue[\"id\"], venue[\"name\"], venue[\"location\"]\n",
    "    assert len(categories) == 1\n",
    "    shortname = categories[0][\"shortName\"]\n",
    "#     address = location[\"address\"]\n",
    "    if not \"postalCode\" in location:\n",
    "        continue\n",
    "    postalcode = location[\"postalCode\"]\n",
    "    lat = location[\"lat\"]\n",
    "    lng = location[\"lng\"]\n",
    "    datarow = (uid, name, shortname, address, postalcode, lat, lng)\n",
    "    df_raw.append(datarow)\n",
    "df = pd.DataFrame(df_raw, columns=[\"uid\", \"name\", \"shortname\", \"address\", \"postalcode\", \"lat\", \"lng\"])\n",
    "print(\"found %i cafes\" % len(df))\n",
    "df.head()"
   ]
  },
  {
   "cell_type": "markdown",
   "metadata": {},
   "source": [
    "Some density based estimator is giving a good tip where to start a new coffee business. There's a `HeatMap` plugin ready in Folium, let's use that, and visualize all the existing Cafes to same map:"
   ]
  },
  {
   "cell_type": "code",
   "execution_count": 82,
   "metadata": {},
   "outputs": [
    {
     "data": {
      "text/plain": [
       "{'lat': 19.07283, 'lng': 72.88261}"
      ]
     },
     "execution_count": 82,
     "metadata": {},
     "output_type": "execute_result"
    }
   ],
   "source": [
    "mum_center = d[\"geocode\"][\"center\"]\n",
    "mum_center"
   ]
  },
  {
   "cell_type": "code",
   "execution_count": 83,
   "metadata": {
    "scrolled": false
   },
   "outputs": [
    {
     "data": {
      "text/html": [
       "<div style=\"width:100%;\"><div style=\"position:relative;width:100%;height:0;padding-bottom:60%;\"><iframe src=\"about:blank\" style=\"position:absolute;width:100%;height:100%;left:0;top:0;border:none !important;\" data-html=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 onload=\"this.contentDocument.open();this.contentDocument.write(atob(this.getAttribute('data-html')));this.contentDocument.close();\" allowfullscreen webkitallowfullscreen mozallowfullscreen></iframe></div></div>"
      ],
      "text/plain": [
       "<folium.folium.Map at 0x7f71fab3f4d0>"
      ]
     },
     "execution_count": 83,
     "metadata": {},
     "output_type": "execute_result"
    }
   ],
   "source": [
    "# create map of Mumbai using latitude and longitude values\n",
    "map_mum = folium.Map(location=[mum_center[\"lat\"], mum_center[\"lng\"]], zoom_start=14)\n",
    "\n",
    "def add_markers(df):\n",
    "    for (j, row) in df.iterrows():\n",
    "        label = folium.Popup(row[\"name\"], parse_html=True)\n",
    "        folium.CircleMarker(\n",
    "            [row[\"lat\"], row[\"lng\"]],\n",
    "            radius=5,\n",
    "            popup=label,\n",
    "            color='blue',\n",
    "            fill=True,\n",
    "            fill_color='#3186cc',\n",
    "            fill_opacity=0.7,\n",
    "            parse_html=False).add_to(map_helsinki)\n",
    "\n",
    "add_markers(df)\n",
    "hm_data = df[[\"lat\", \"lng\"]].to_numpy().tolist()\n",
    "map_mum.add_child(plugins.HeatMap(hm_data))\n",
    "\n",
    "map_mum"
   ]
  },
  {
   "cell_type": "markdown",
   "metadata": {},
   "source": [
    "## Results\n",
    "\n",
    "Based on these results, one possibly good location for new Cafe would be on the Santa Cruz Chembur Link Road."
   ]
  },
  {
   "cell_type": "code",
   "execution_count": 84,
   "metadata": {},
   "outputs": [
    {
     "data": {
      "text/html": [
       "<div style=\"width:100%;\"><div style=\"position:relative;width:100%;height:0;padding-bottom:60%;\"><iframe src=\"about:blank\" style=\"position:absolute;width:100%;height:100%;left:0;top:0;border:none !important;\" data-html=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 onload=\"this.contentDocument.open();this.contentDocument.write(atob(this.getAttribute('data-html')));this.contentDocument.close();\" allowfullscreen webkitallowfullscreen mozallowfullscreen></iframe></div></div>"
      ],
      "text/plain": [
       "<folium.folium.Map at 0x7f71fab3f510>"
      ]
     },
     "execution_count": 84,
     "metadata": {},
     "output_type": "execute_result"
    }
   ],
   "source": [
    "lat = 19.07283\n",
    "lng = 72.88261\n",
    "map_it = folium.Map(location=[lat, lng], zoom_start=17)\n",
    "add_markers(df)\n",
    "folium.CircleMarker(\n",
    "    [lat, lng],\n",
    "    radius=15,\n",
    "    popup=\"Our Cafe!\",\n",
    "    color='red',\n",
    "    fill=True,\n",
    "    fill_color='#3186cc',\n",
    "    fill_opacity=0.7,# create map of Mumbai using latitude and longitude values\n",
    "map_mum = folium.Map(location=[mum_center[\"lat\"], mum_center[\"lng\"]], zoom_start=14)\n",
    "\n",
    "def add_markers(df):\n",
    "    for (j, row) in df.iterrows():\n",
    "        label = folium.Popup(row[\"name\"], parse_html=True)\n",
    "        folium.CircleMarker(\n",
    "            [row[\"lat\"], row[\"lng\"]],\n",
    "            radius=5,\n",
    "            popup=label,\n",
    "            color='blue',\n",
    "            fill=True,\n",
    "            fill_color='#3186cc',\n",
    "            fill_opacity=0.7,\n",
    "            parse_html=False).add_to(map_helsinki)\n",
    "\n",
    "add_markers(df)\n",
    "hm_data = df[[\"lat\", \"lng\"]].to_numpy().tolist()\n",
    "map_mum.add_child(plugins.HeatMap(hm_data))\n",
    "\n",
    "map_mum\n",
    "    parse_html=False).add_to(map_it)\n",
    "map_it"
   ]
  }
 ],
 "metadata": {
  "kernelspec": {
   "display_name": "Python 3",
   "language": "python",
   "name": "python3"
  },
  "language_info": {
   "codemirror_mode": {
    "name": "ipython",
    "version": 3
   },
   "file_extension": ".py",
   "mimetype": "text/x-python",
   "name": "python",
   "nbconvert_exporter": "python",
   "pygments_lexer": "ipython3",
   "version": "3.7.4"
  }
 },
 "nbformat": 4,
 "nbformat_minor": 1
}
